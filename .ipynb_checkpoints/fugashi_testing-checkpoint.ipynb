{
 "cells": [
  {
   "cell_type": "code",
   "execution_count": 1,
   "metadata": {},
   "outputs": [],
   "source": [
    "import fugashi"
   ]
  },
  {
   "cell_type": "code",
   "execution_count": 2,
   "metadata": {},
   "outputs": [],
   "source": [
    "g_tagger = fugashi.GenericTagger()"
   ]
  },
  {
   "cell_type": "code",
   "execution_count": 3,
   "metadata": {},
   "outputs": [
    {
     "data": {
      "text/plain": [
       "[{'filename': 'C:\\\\Program Files (x86)\\\\MeCab\\\\etc\\\\..\\\\dic\\\\unidic-cwj-2.3.0\\\\sys.dic',\n",
       "  'charset': 'UTF-8',\n",
       "  'size': 872830,\n",
       "  'version': 102}]"
      ]
     },
     "execution_count": 3,
     "metadata": {},
     "output_type": "execute_result"
    }
   ],
   "source": [
    "g_tagger.dictionary_info"
   ]
  },
  {
   "cell_type": "code",
   "execution_count": 4,
   "metadata": {},
   "outputs": [],
   "source": [
    "tagger = fugashi.Tagger()"
   ]
  },
  {
   "cell_type": "code",
   "execution_count": 5,
   "metadata": {},
   "outputs": [
    {
     "data": {
      "text/plain": [
       "[{'filename': 'C:\\\\Users\\\\Argentum\\\\.conda\\\\envs\\\\ja_accent_annotator\\\\lib\\\\site-packages\\\\unidic\\\\dicdir\\\\sys.dic',\n",
       "  'charset': 'UTF-8',\n",
       "  'size': 872830,\n",
       "  'version': 102}]"
      ]
     },
     "execution_count": 5,
     "metadata": {},
     "output_type": "execute_result"
    }
   ],
   "source": [
    "tagger.dictionary_info"
   ]
  },
  {
   "cell_type": "code",
   "execution_count": 30,
   "metadata": {},
   "outputs": [],
   "source": [
    "text = \"日本語\""
   ]
  },
  {
   "cell_type": "code",
   "execution_count": 35,
   "metadata": {},
   "outputs": [],
   "source": [
    "parsings = tagger.nbest(text, 2).split('EOS')[:-1]"
   ]
  },
  {
   "cell_type": "code",
   "execution_count": 36,
   "metadata": {},
   "outputs": [
    {
     "data": {
      "text/plain": [
       "['日本\\t名詞,固有名詞,地名,国,,,ニッポン,日本,日本,ニッポン,日本,ニッポン,固,,,,,,,国,ニッポン,ニッポン,ニッポン,ニッポン,3,,,7821659499274752,28455\\n語\\t名詞,普通名詞,一般,,,,ゴ,語,語,ゴ,語,ゴ,漢,,,,,,,体,ゴ,ゴ,ゴ,ゴ,1,C3,,3665230634820096,13334\\n',\n",
       " '\\n日本\\t名詞,固有名詞,地名,国,,,ニッポン,日本,日本,ニホン,日本,ニホン,固,,,,,,,国,ニホン,ニホン,ニホン,ニホン,2,,,7821668089209344,28455\\n語\\t名詞,普通名詞,一般,,,,ゴ,語,語,ゴ,語,ゴ,漢,,,,,,,体,ゴ,ゴ,ゴ,ゴ,1,C3,,3665230634820096,13334\\n']"
      ]
     },
     "execution_count": 36,
     "metadata": {},
     "output_type": "execute_result"
    }
   ],
   "source": [
    "parsings"
   ]
  },
  {
   "cell_type": "code",
   "execution_count": 19,
   "metadata": {},
   "outputs": [
    {
     "data": {
      "text/plain": [
       "'日本\\t名詞,固有名詞,地名,国,,,ニッポン,日本,日本,ニッポン,日本,ニッポン,固,,,,,,,国,ニッポン,ニッポン,ニッポン,ニッポン,3,,,7821659499274752,28455\\n語\\t名詞,普通名詞,一般,,,,ゴ,語,語,ゴ,語,ゴ,漢,,,,,,,体,ゴ,ゴ,ゴ,ゴ,1,C3,,3665230634820096,13334\\nEOS'"
      ]
     },
     "execution_count": 19,
     "metadata": {},
     "output_type": "execute_result"
    }
   ],
   "source": [
    "tagger.parse(text)"
   ]
  },
  {
   "cell_type": "code",
   "execution_count": 37,
   "metadata": {},
   "outputs": [],
   "source": [
    "SWUs = parsings[0].splitlines()"
   ]
  },
  {
   "cell_type": "code",
   "execution_count": 38,
   "metadata": {},
   "outputs": [
    {
     "data": {
      "text/plain": [
       "['日本\\t名詞,固有名詞,地名,国,,,ニッポン,日本,日本,ニッポン,日本,ニッポン,固,,,,,,,国,ニッポン,ニッポン,ニッポン,ニッポン,3,,,7821659499274752,28455',\n",
       " '語\\t名詞,普通名詞,一般,,,,ゴ,語,語,ゴ,語,ゴ,漢,,,,,,,体,ゴ,ゴ,ゴ,ゴ,1,C3,,3665230634820096,13334']"
      ]
     },
     "execution_count": 38,
     "metadata": {},
     "output_type": "execute_result"
    }
   ],
   "source": [
    "SWUs"
   ]
  },
  {
   "cell_type": "code",
   "execution_count": 39,
   "metadata": {},
   "outputs": [],
   "source": [
    "words = tagger(text)"
   ]
  },
  {
   "cell_type": "code",
   "execution_count": 49,
   "metadata": {},
   "outputs": [],
   "source": [
    "import pprint"
   ]
  },
  {
   "cell_type": "code",
   "execution_count": 55,
   "metadata": {},
   "outputs": [
    {
     "name": "stdout",
     "output_type": "stream",
     "text": [
      "'日本'\n"
     ]
    }
   ],
   "source": [
    "pprint.pprint(words[0].surface)"
   ]
  },
  {
   "cell_type": "code",
   "execution_count": 56,
   "metadata": {},
   "outputs": [],
   "source": [
    "surface, features = SWUs[0].split('\\t')"
   ]
  },
  {
   "cell_type": "code",
   "execution_count": 61,
   "metadata": {},
   "outputs": [
    {
     "data": {
      "text/plain": [
       "str"
      ]
     },
     "execution_count": 61,
     "metadata": {},
     "output_type": "execute_result"
    }
   ],
   "source": [
    "type(surface)"
   ]
  },
  {
   "cell_type": "code",
   "execution_count": 62,
   "metadata": {},
   "outputs": [
    {
     "data": {
      "text/plain": [
       "str"
      ]
     },
     "execution_count": 62,
     "metadata": {},
     "output_type": "execute_result"
    }
   ],
   "source": [
    "type(features)"
   ]
  },
  {
   "cell_type": "code",
   "execution_count": 63,
   "metadata": {},
   "outputs": [],
   "source": [
    "import csv"
   ]
  },
  {
   "cell_type": "code",
   "execution_count": 98,
   "metadata": {},
   "outputs": [],
   "source": [
    "feature_list = next(csv.reader([unk_test[0].feature_raw]))"
   ]
  },
  {
   "cell_type": "code",
   "execution_count": 99,
   "metadata": {},
   "outputs": [
    {
     "ename": "TypeError",
     "evalue": "__new__() missing 23 required positional arguments: 'lForm', 'lemma', 'orth', 'pron', 'orthBase', 'pronBase', 'goshu', 'iType', 'iForm', 'fType', 'fForm', 'iConType', 'fConType', 'type', 'kana', 'kanaBase', 'form', 'formBase', 'aType', 'aConType', 'aModType', 'lid', and 'lemma_id'",
     "output_type": "error",
     "traceback": [
      "\u001b[1;31m---------------------------------------------------------------------------\u001b[0m",
      "\u001b[1;31mTypeError\u001b[0m                                 Traceback (most recent call last)",
      "\u001b[1;32m<ipython-input-99-8b09824e97a5>\u001b[0m in \u001b[0;36m<module>\u001b[1;34m\u001b[0m\n\u001b[1;32m----> 1\u001b[1;33m \u001b[0mfeature_namedtuple\u001b[0m \u001b[1;33m=\u001b[0m \u001b[0mfugashi\u001b[0m\u001b[1;33m.\u001b[0m\u001b[0mUnidicFeatures29\u001b[0m\u001b[1;33m(\u001b[0m\u001b[1;33m*\u001b[0m\u001b[0mfeature_list\u001b[0m\u001b[1;33m)\u001b[0m\u001b[1;33m\u001b[0m\u001b[1;33m\u001b[0m\u001b[0m\n\u001b[0m",
      "\u001b[1;31mTypeError\u001b[0m: __new__() missing 23 required positional arguments: 'lForm', 'lemma', 'orth', 'pron', 'orthBase', 'pronBase', 'goshu', 'iType', 'iForm', 'fType', 'fForm', 'iConType', 'fConType', 'type', 'kana', 'kanaBase', 'form', 'formBase', 'aType', 'aConType', 'aModType', 'lid', and 'lemma_id'"
     ]
    }
   ],
   "source": [
    "feature_namedtuple = fugashi.UnidicFeatures29(*feature_list)"
   ]
  },
  {
   "cell_type": "code",
   "execution_count": 71,
   "metadata": {},
   "outputs": [
    {
     "data": {
      "text/plain": [
       "UnidicFeatures29(pos1='名詞', pos2='固有名詞', pos3='地名', pos4='国', cType='', cForm='', lForm='ニッポン', lemma='日本', orth='日本', pron='ニッポン', orthBase='日本', pronBase='ニッポン', goshu='固', iType='', iForm='', fType='', fForm='', iConType='', fConType='', type='国', kana='ニッポン', kanaBase='ニッポン', form='ニッポン', formBase='ニッポン', aType='3', aConType='', aModType='', lid='7821659499274752', lemma_id='28455')"
      ]
     },
     "execution_count": 71,
     "metadata": {},
     "output_type": "execute_result"
    }
   ],
   "source": [
    "feature_namedtuple"
   ]
  },
  {
   "cell_type": "code",
   "execution_count": 91,
   "metadata": {},
   "outputs": [],
   "source": [
    "unk_test = tagger(\"234123421324234\")"
   ]
  },
  {
   "cell_type": "code",
   "execution_count": 97,
   "metadata": {},
   "outputs": [
    {
     "name": "stdout",
     "output_type": "stream",
     "text": [
      "True\n",
      "名詞,数詞,*,*,*,*\n",
      "UnidicFeatures29(pos1='名詞', pos2='数詞', pos3='*', pos4='*', cType='*', cForm='*', lForm=None, lemma=None, orth=None, pron=None, orthBase=None, pronBase=None, goshu=None, iType=None, iForm=None, fType=None, fForm=None, iConType=None, fConType=None, type=None, kana=None, kanaBase=None, form=None, formBase=None, aType=None, aConType=None, aModType=None, lid=None, lemma_id=None)\n"
     ]
    }
   ],
   "source": [
    "print(unk_test[0].is_unk)\n",
    "print(unk_test[0].feature_raw)\n",
    "print(unk_test[0].feature)"
   ]
  },
  {
   "cell_type": "code",
   "execution_count": null,
   "metadata": {},
   "outputs": [],
   "source": []
  }
 ],
 "metadata": {
  "kernelspec": {
   "display_name": "Python 3",
   "language": "python",
   "name": "python3"
  },
  "language_info": {
   "codemirror_mode": {
    "name": "ipython",
    "version": 3
   },
   "file_extension": ".py",
   "mimetype": "text/x-python",
   "name": "python",
   "nbconvert_exporter": "python",
   "pygments_lexer": "ipython3",
   "version": "3.7.7"
  }
 },
 "nbformat": 4,
 "nbformat_minor": 4
}
